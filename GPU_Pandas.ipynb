{
  "nbformat": 4,
  "nbformat_minor": 0,
  "metadata": {
    "colab": {
      "name": "GPU Pandas.ipynb",
      "provenance": [],
      "collapsed_sections": [
        "2Pl2k6BOoIeM",
        "qrBn08rHuxMX",
        "2vC89wXBR0tl",
        "Do1rx1DrR5c7",
        "OAc18M3UoAnQ",
        "DsjyyIXUQCJ7",
        "KUbkCGZCQD9z",
        "wK4UStgF4QuE"
      ],
      "include_colab_link": true
    },
    "kernelspec": {
      "name": "python3",
      "display_name": "Python 3"
    },
    "accelerator": "GPU"
  },
  "cells": [
    {
      "cell_type": "markdown",
      "metadata": {
        "id": "view-in-github",
        "colab_type": "text"
      },
      "source": [
        "<a href=\"https://colab.research.google.com/github/kaustubhgupta/pandas-nvidia-rapids/blob/main/GPU_Pandas.ipynb\" target=\"_parent\"><img src=\"https://colab.research.google.com/assets/colab-badge.svg\" alt=\"Open In Colab\"/></a>"
      ]
    },
    {
      "cell_type": "markdown",
      "metadata": {
        "id": "2Pl2k6BOoIeM"
      },
      "source": [
        "## Rapids Setup"
      ]
    },
    {
      "cell_type": "code",
      "metadata": {
        "id": "67T0090Jk2KL"
      },
      "source": [
        "!nvidia-smi"
      ],
      "execution_count": null,
      "outputs": []
    },
    {
      "cell_type": "code",
      "metadata": {
        "id": "B0C8IV5TQnjN"
      },
      "source": [
        "!git clone https://github.com/rapidsai/rapidsai-csp-utils.git\n",
        "!python rapidsai-csp-utils/colab/env-check.py"
      ],
      "execution_count": null,
      "outputs": []
    },
    {
      "cell_type": "code",
      "metadata": {
        "id": "4sKA_9Dbg4s2"
      },
      "source": [
        "# This will crash the session once\n",
        "!bash rapidsai-csp-utils/colab/update_gcc.sh\n",
        "import os\n",
        "os._exit(00)"
      ],
      "execution_count": null,
      "outputs": []
    },
    {
      "cell_type": "code",
      "metadata": {
        "id": "d1C4pNiBhYHX"
      },
      "source": [
        "# This will restart your kernel one last time\n",
        "import condacolab\n",
        "condacolab.install()"
      ],
      "execution_count": null,
      "outputs": []
    },
    {
      "cell_type": "code",
      "metadata": {
        "id": "-Ko_pJZbhZrM",
        "colab": {
          "base_uri": "https://localhost:8080/"
        },
        "outputId": "9629f319-2693-429f-fcf2-9982b047c65a"
      },
      "source": [
        "import condacolab\n",
        "condacolab.check()"
      ],
      "execution_count": 1,
      "outputs": [
        {
          "output_type": "stream",
          "text": [
            "✨🍰✨ Everything looks OK!\n"
          ],
          "name": "stdout"
        }
      ]
    },
    {
      "cell_type": "code",
      "metadata": {
        "id": "G_2dancFhf70"
      },
      "source": [
        " # 15 minutes process\n",
        " !python rapidsai-csp-utils/colab/install_rapids.py stable"
      ],
      "execution_count": null,
      "outputs": []
    },
    {
      "cell_type": "markdown",
      "metadata": {
        "id": "qrBn08rHuxMX"
      },
      "source": [
        "## Model Data prep"
      ]
    },
    {
      "cell_type": "code",
      "metadata": {
        "id": "4nLrk46BllED"
      },
      "source": [
        "import cudf\n",
        "from cuml import make_regression, train_test_split\n",
        "from cuml.linear_model import LinearRegression as cuLinearRegression\n",
        "from cuml.metrics.regression import r2_score\n",
        "from sklearn.linear_model import LinearRegression as skLinearRegression"
      ],
      "execution_count": 1,
      "outputs": []
    },
    {
      "cell_type": "code",
      "metadata": {
        "id": "0oDCSGaYglBs"
      },
      "source": [
        "n_samples = 2**20 \n",
        "n_features = 399\n",
        "\n",
        "random_state = 23"
      ],
      "execution_count": 2,
      "outputs": []
    },
    {
      "cell_type": "code",
      "metadata": {
        "id": "VYKTT9HVgoFn",
        "colab": {
          "base_uri": "https://localhost:8080/"
        },
        "outputId": "16653c0b-8737-4943-b357-4796c4409ca6"
      },
      "source": [
        "%%time\n",
        "X, y = make_regression(n_samples=n_samples, n_features=n_features, random_state=random_state)\n",
        "\n",
        "X = cudf.DataFrame(X)\n",
        "y = cudf.DataFrame(y)[0]\n",
        "\n",
        "X_cudf, X_cudf_test, y_cudf, y_cudf_test = train_test_split(X, y, test_size = 0.2, random_state=random_state)"
      ],
      "execution_count": 3,
      "outputs": [
        {
          "output_type": "stream",
          "text": [
            "CPU times: user 2.96 s, sys: 1.53 s, total: 4.49 s\n",
            "Wall time: 21.5 s\n"
          ],
          "name": "stdout"
        }
      ]
    },
    {
      "cell_type": "code",
      "metadata": {
        "id": "gRjTeMNsgsi7",
        "colab": {
          "base_uri": "https://localhost:8080/"
        },
        "outputId": "1aee340c-7c08-4519-dbdf-9880c989af74"
      },
      "source": [
        "%%time\n",
        "X_train = X_cudf.to_pandas()\n",
        "X_test = X_cudf_test.to_pandas()\n",
        "y_train = y_cudf.to_pandas()\n",
        "y_test = y_cudf_test.to_pandas()"
      ],
      "execution_count": 4,
      "outputs": [
        {
          "output_type": "stream",
          "text": [
            "CPU times: user 1.01 s, sys: 1.62 s, total: 2.63 s\n",
            "Wall time: 2.62 s\n"
          ],
          "name": "stdout"
        }
      ]
    },
    {
      "cell_type": "markdown",
      "metadata": {
        "id": "2vC89wXBR0tl"
      },
      "source": [
        "## sklearn model\n"
      ]
    },
    {
      "cell_type": "code",
      "metadata": {
        "id": "CnE_jVQbg1QD",
        "colab": {
          "base_uri": "https://localhost:8080/"
        },
        "outputId": "94cdf8be-afce-4d3b-a353-49f78f27368f"
      },
      "source": [
        "%%timeit\n",
        "sk = skLinearRegression(fit_intercept=True,\n",
        "                            normalize=True,\n",
        "                            n_jobs=-1)\n",
        "\n",
        "sk.fit(X_train, y_train)"
      ],
      "execution_count": 5,
      "outputs": [
        {
          "output_type": "stream",
          "text": [
            "1 loop, best of 5: 16.9 s per loop\n"
          ],
          "name": "stdout"
        }
      ]
    },
    {
      "cell_type": "code",
      "metadata": {
        "colab": {
          "base_uri": "https://localhost:8080/"
        },
        "id": "AG9CSrVU2z5U",
        "outputId": "a1e20b5e-9405-4e20-d431-3ffbf10185c3"
      },
      "source": [
        "sk = skLinearRegression(fit_intercept=True,\n",
        "                            normalize=True,\n",
        "                            n_jobs=-1)\n",
        "\n",
        "sk.fit(X_train, y_train)"
      ],
      "execution_count": 8,
      "outputs": [
        {
          "output_type": "execute_result",
          "data": {
            "text/plain": [
              "LinearRegression(n_jobs=-1, normalize=True)"
            ]
          },
          "metadata": {
            "tags": []
          },
          "execution_count": 8
        }
      ]
    },
    {
      "cell_type": "code",
      "metadata": {
        "id": "5IegsU_lg5n6",
        "colab": {
          "base_uri": "https://localhost:8080/"
        },
        "outputId": "7995ccbb-193d-4f81-94c0-a9a60d80cc02"
      },
      "source": [
        "%%time\n",
        "predict_sk = sk.predict(X_test)"
      ],
      "execution_count": 9,
      "outputs": [
        {
          "output_type": "stream",
          "text": [
            "CPU times: user 126 ms, sys: 155 µs, total: 126 ms\n",
            "Wall time: 102 ms\n"
          ],
          "name": "stdout"
        }
      ]
    },
    {
      "cell_type": "code",
      "metadata": {
        "id": "TE7fe0qag_jD",
        "colab": {
          "base_uri": "https://localhost:8080/"
        },
        "outputId": "46a1d0ae-4214-4f54-ef31-6434a6f8fd6f"
      },
      "source": [
        "%%time\n",
        "r2_score_sk = r2_score(y_test, predict_sk)"
      ],
      "execution_count": 10,
      "outputs": [
        {
          "output_type": "stream",
          "text": [
            "CPU times: user 4.56 ms, sys: 2.07 ms, total: 6.64 ms\n",
            "Wall time: 15.4 ms\n"
          ],
          "name": "stdout"
        }
      ]
    },
    {
      "cell_type": "markdown",
      "metadata": {
        "id": "Do1rx1DrR5c7"
      },
      "source": [
        "## GPU model"
      ]
    },
    {
      "cell_type": "code",
      "metadata": {
        "id": "H3el03DphCKn",
        "colab": {
          "base_uri": "https://localhost:8080/"
        },
        "outputId": "2fa9e04b-b026-4ad2-9c47-4547b3b1b877"
      },
      "source": [
        "%%timeit\n",
        "gpuModel = cuLinearRegression(fit_intercept=True,\n",
        "                              normalize=True,\n",
        "                              algorithm='eig')\n",
        "\n",
        "gpuModel.fit(X_cudf, y_cudf)"
      ],
      "execution_count": 11,
      "outputs": [
        {
          "output_type": "stream",
          "text": [
            "1 loop, best of 5: 323 ms per loop\n"
          ],
          "name": "stdout"
        }
      ]
    },
    {
      "cell_type": "code",
      "metadata": {
        "colab": {
          "base_uri": "https://localhost:8080/"
        },
        "id": "5fWbmOhL3DxL",
        "outputId": "5c4171db-3473-4ab9-9d7c-5183b41ef1d0"
      },
      "source": [
        "gpuModel = cuLinearRegression(fit_intercept=True,\n",
        "                              normalize=True,\n",
        "                              algorithm='eig')\n",
        "\n",
        "gpuModel.fit(X_cudf, y_cudf)"
      ],
      "execution_count": 12,
      "outputs": [
        {
          "output_type": "execute_result",
          "data": {
            "text/plain": [
              "LinearRegression()"
            ]
          },
          "metadata": {
            "tags": []
          },
          "execution_count": 12
        }
      ]
    },
    {
      "cell_type": "code",
      "metadata": {
        "id": "VLT4bSIrhEkz",
        "colab": {
          "base_uri": "https://localhost:8080/"
        },
        "outputId": "5e4849fa-2f35-4868-8115-59b799df289a"
      },
      "source": [
        "%%time\n",
        "predict_cuml = gpuModel.predict(X_cudf_test)"
      ],
      "execution_count": 13,
      "outputs": [
        {
          "output_type": "stream",
          "text": [
            "CPU times: user 25.7 ms, sys: 5.89 ms, total: 31.6 ms\n",
            "Wall time: 39.7 ms\n"
          ],
          "name": "stdout"
        }
      ]
    },
    {
      "cell_type": "code",
      "metadata": {
        "id": "qJlJcTK-hJdw",
        "colab": {
          "base_uri": "https://localhost:8080/"
        },
        "outputId": "34f34a98-806d-42fa-c2ae-dd0cee5c9512"
      },
      "source": [
        "%%time\n",
        "r2_score_cuml = r2_score(y_cudf_test, predict_cuml)"
      ],
      "execution_count": 14,
      "outputs": [
        {
          "output_type": "stream",
          "text": [
            "CPU times: user 1.06 ms, sys: 1 ms, total: 2.06 ms\n",
            "Wall time: 2.07 ms\n"
          ],
          "name": "stdout"
        }
      ]
    },
    {
      "cell_type": "code",
      "metadata": {
        "id": "5qbpWkcGhLc_",
        "colab": {
          "base_uri": "https://localhost:8080/"
        },
        "outputId": "7e45186c-7e60-4dd3-baa6-120a0cfe2816"
      },
      "source": [
        "print(\"R^2 score (SKL):  %s\" % r2_score_sk)\n",
        "print(\"R^2 score (cuML): %s\" % r2_score_cuml)"
      ],
      "execution_count": 15,
      "outputs": [
        {
          "output_type": "stream",
          "text": [
            "R^2 score (SKL):  1.0\n",
            "R^2 score (cuML): 1.0\n"
          ],
          "name": "stdout"
        }
      ]
    },
    {
      "cell_type": "markdown",
      "metadata": {
        "id": "OAc18M3UoAnQ"
      },
      "source": [
        "## General operations"
      ]
    },
    {
      "cell_type": "code",
      "metadata": {
        "id": "StJx6lhkhNmr"
      },
      "source": [
        "import cudf \n",
        "import pandas as pd\n",
        "import numpy as np"
      ],
      "execution_count": 16,
      "outputs": []
    },
    {
      "cell_type": "code",
      "metadata": {
        "id": "FMgv5R2GOQqQ"
      },
      "source": [
        "import warnings\n",
        "\n",
        "warnings.filterwarnings(\"ignore\")"
      ],
      "execution_count": 17,
      "outputs": []
    },
    {
      "cell_type": "code",
      "metadata": {
        "id": "Wiz0MZtnhP7x",
        "colab": {
          "base_uri": "https://localhost:8080/"
        },
        "outputId": "76561cf6-f512-4ef6-f58e-f12c50236532"
      },
      "source": [
        "%%timeit\n",
        "gpuDF = cudf.DataFrame({'col_1': np.random.randint(0, 10000000, size=10000000),\n",
        "                          'col_2': np.random.randint(0, 10000000, size=10000000)})"
      ],
      "execution_count": 18,
      "outputs": [
        {
          "output_type": "stream",
          "text": [
            "1 loop, best of 5: 320 ms per loop\n"
          ],
          "name": "stdout"
        }
      ]
    },
    {
      "cell_type": "code",
      "metadata": {
        "id": "nrwRsBJMhj6x",
        "colab": {
          "base_uri": "https://localhost:8080/"
        },
        "outputId": "d72e30a4-ce01-45ed-b370-76876e9ca9a6"
      },
      "source": [
        "%%timeit\n",
        "pandasDF = pd.DataFrame({'col_1': np.random.randint(0, 10000000, size=10000000),\n",
        "                          'col_2': np.random.randint(0, 10000000, size=10000000)})"
      ],
      "execution_count": 19,
      "outputs": [
        {
          "output_type": "stream",
          "text": [
            "1 loop, best of 5: 335 ms per loop\n"
          ],
          "name": "stdout"
        }
      ]
    },
    {
      "cell_type": "code",
      "metadata": {
        "id": "xa5F5RVkyjQw"
      },
      "source": [
        "gpuDF = cudf.DataFrame({'col_1': np.random.randint(0, 100000000, size=100000000),\n",
        "                          'col_2': np.random.randint(0, 100000000, size=100000000)})"
      ],
      "execution_count": 20,
      "outputs": []
    },
    {
      "cell_type": "code",
      "metadata": {
        "id": "GLZ1wEZPydjN"
      },
      "source": [
        "pandasDF = pd.DataFrame({'col_1': np.random.randint(0, 100000000, size=100000000),\n",
        "                          'col_2': np.random.randint(0, 100000000, size=100000000)})"
      ],
      "execution_count": 21,
      "outputs": []
    },
    {
      "cell_type": "markdown",
      "metadata": {
        "id": "DsjyyIXUQCJ7"
      },
      "source": [
        "### log"
      ]
    },
    {
      "cell_type": "code",
      "metadata": {
        "id": "BW5fpKQIhcAr",
        "colab": {
          "base_uri": "https://localhost:8080/"
        },
        "outputId": "271a5485-2054-4bd6-a3a5-c029511c02f2"
      },
      "source": [
        "%%timeit -n 10\n",
        "\n",
        "pandasDF['log_1'] = np.log(pandasDF['col_1'])"
      ],
      "execution_count": 22,
      "outputs": [
        {
          "output_type": "stream",
          "text": [
            "10 loops, best of 5: 2.64 s per loop\n"
          ],
          "name": "stdout"
        }
      ]
    },
    {
      "cell_type": "code",
      "metadata": {
        "id": "f98zjiT-hdID",
        "colab": {
          "base_uri": "https://localhost:8080/"
        },
        "outputId": "4ba8c126-c688-42fe-d53e-f07551481641"
      },
      "source": [
        "%%timeit -n 10\n",
        "\n",
        "gpuDF['log_1'] = np.log(gpuDF['col_1'])"
      ],
      "execution_count": 39,
      "outputs": [
        {
          "output_type": "stream",
          "text": [
            "10 loops, best of 5: 33.7 ms per loop\n"
          ],
          "name": "stdout"
        }
      ]
    },
    {
      "cell_type": "markdown",
      "metadata": {
        "id": "KUbkCGZCQD9z"
      },
      "source": [
        "### square"
      ]
    },
    {
      "cell_type": "code",
      "metadata": {
        "colab": {
          "base_uri": "https://localhost:8080/"
        },
        "id": "rBlM0N13LKUA",
        "outputId": "b0385c05-18a0-456f-c778-a5d2a500facd"
      },
      "source": [
        "%%timeit -n 10\n",
        "\n",
        "pandasDF['sqaure_1'] = np.sqrt(pandasDF['col_1'])"
      ],
      "execution_count": 23,
      "outputs": [
        {
          "output_type": "stream",
          "text": [
            "10 loops, best of 5: 547 ms per loop\n"
          ],
          "name": "stdout"
        }
      ]
    },
    {
      "cell_type": "code",
      "metadata": {
        "colab": {
          "base_uri": "https://localhost:8080/"
        },
        "id": "nkKuZq8XLLIO",
        "outputId": "87be5e99-c595-4cf8-b0c4-19f6a85e5454"
      },
      "source": [
        "%%timeit -n 10\n",
        "\n",
        "gpuDF['square_1'] = np.sqrt(gpuDF['col_1'])"
      ],
      "execution_count": 24,
      "outputs": [
        {
          "output_type": "stream",
          "text": [
            "10 loops, best of 5: 15.3 ms per loop\n"
          ],
          "name": "stdout"
        }
      ]
    },
    {
      "cell_type": "markdown",
      "metadata": {
        "id": "wK4UStgF4QuE"
      },
      "source": [
        "### string conversion"
      ]
    },
    {
      "cell_type": "code",
      "metadata": {
        "id": "cUKYiNyNbabw"
      },
      "source": [
        "%%time \n",
        "\n",
        "pandasDF.col_1.astype(str)"
      ],
      "execution_count": null,
      "outputs": []
    },
    {
      "cell_type": "code",
      "metadata": {
        "colab": {
          "base_uri": "https://localhost:8080/"
        },
        "id": "LwYaKs_3qWSf",
        "outputId": "19b37f74-3c8a-4b52-ad58-f24ba92c07e8"
      },
      "source": [
        "%%time\n",
        "\n",
        "gpuDF.col_1.astype(str)"
      ],
      "execution_count": 14,
      "outputs": [
        {
          "output_type": "stream",
          "text": [
            "CPU times: user 34.1 ms, sys: 3.76 ms, total: 37.9 ms\n",
            "Wall time: 38 ms\n"
          ],
          "name": "stdout"
        },
        {
          "output_type": "execute_result",
          "data": {
            "text/plain": [
              "0            3825623\n",
              "1           22388050\n",
              "2           96850930\n",
              "3           70175343\n",
              "4           63431439\n",
              "              ...   \n",
              "99999995    33588499\n",
              "99999996    51181494\n",
              "99999997    91417594\n",
              "99999998    60706307\n",
              "99999999    91123475\n",
              "Name: col_1, Length: 100000000, dtype: object"
            ]
          },
          "metadata": {
            "tags": []
          },
          "execution_count": 14
        }
      ]
    },
    {
      "cell_type": "code",
      "metadata": {
        "id": "hTkSAw46iX0w",
        "colab": {
          "base_uri": "https://localhost:8080/"
        },
        "outputId": "ed517f2e-93c8-4947-f3a8-a185adf7f405"
      },
      "source": [
        "!nvidia-smi"
      ],
      "execution_count": 15,
      "outputs": [
        {
          "output_type": "stream",
          "text": [
            "Mon Jun 21 17:59:50 2021       \n",
            "+-----------------------------------------------------------------------------+\n",
            "| NVIDIA-SMI 465.27       Driver Version: 460.32.03    CUDA Version: 11.2     |\n",
            "|-------------------------------+----------------------+----------------------+\n",
            "| GPU  Name        Persistence-M| Bus-Id        Disp.A | Volatile Uncorr. ECC |\n",
            "| Fan  Temp  Perf  Pwr:Usage/Cap|         Memory-Usage | GPU-Util  Compute M. |\n",
            "|                               |                      |               MIG M. |\n",
            "|===============================+======================+======================|\n",
            "|   0  Tesla T4            Off  | 00000000:00:04.0 Off |                    0 |\n",
            "| N/A   77C    P0    34W /  70W |   6492MiB / 15109MiB |      0%      Default |\n",
            "|                               |                      |                  N/A |\n",
            "+-------------------------------+----------------------+----------------------+\n",
            "                                                                               \n",
            "+-----------------------------------------------------------------------------+\n",
            "| Processes:                                                                  |\n",
            "|  GPU   GI   CI        PID   Type   Process name                  GPU Memory |\n",
            "|        ID   ID                                                   Usage      |\n",
            "|=============================================================================|\n",
            "+-----------------------------------------------------------------------------+\n"
          ],
          "name": "stdout"
        }
      ]
    },
    {
      "cell_type": "code",
      "metadata": {
        "id": "ArGSbcivrCUA"
      },
      "source": [
        ""
      ],
      "execution_count": null,
      "outputs": []
    }
  ]
}